{
 "cells": [
  {
   "cell_type": "code",
   "execution_count": 38,
   "metadata": {
    "colab": {},
    "colab_type": "code",
    "id": "-JrZBViajOHn"
   },
   "outputs": [],
   "source": [
    "import pandas as pd\n",
    "import numpy as np\n",
    "import re\n",
    "from pprint import pprint \n",
    "from datetime import datetime\n",
    "\n",
    "#scrapping\n",
    "import GetOldTweets3 as got\n",
    "import time\n",
    "\n",
    "#plotting\n",
    "import matplotlib.pyplot as plt\n",
    "import seaborn as sns\n",
    "%matplotlib inline"
   ]
  },
  {
   "cell_type": "code",
   "execution_count": 39,
   "metadata": {
    "colab": {},
    "colab_type": "code",
    "id": "Pu2mbz9IkEgt"
   },
   "outputs": [],
   "source": [
    "def get_tweets(text_query, start_date, end_date, lang, location, within):\n",
    "   \n",
    "  # spesifik kriteria \n",
    "    tweetCriteria = got.manager.TweetCriteria().setQuerySearch(text_query)\\\n",
    "                          .setSince(start_date)\\\n",
    "                          .setUntil(end_date)\\\n",
    "                          .setLang(lang)\\\n",
    "                          .setNear(location)\\\n",
    "                          .setWithin(within)\n",
    "    \n",
    "   # scrapping tweet berdasarkan kriteria\n",
    "    tweet = got.manager.TweetManager.getTweets(tweetCriteria)\n",
    "    \n",
    "    #membuat list tweet dengan atribut tweet\n",
    "    # specified in the list comprehension\n",
    "    text_tweets = [[tw.username,\n",
    "                tw.text,\n",
    "                tw.date,\n",
    "                tw.retweets,\n",
    "                tw.favorites,\n",
    "                tw.hashtags] for tw in tweet]\n",
    "    \n",
    "    # membuat dataframe, tweets corresponding to tweet attributes\n",
    "    tw_df = pd.DataFrame(text_tweets, \n",
    "                         columns = ['User', 'Text', 'Date', 'Retweets', 'Favorites', 'HashTags'])\n",
    "    \n",
    "    return tw_df"
   ]
  },
  {
   "cell_type": "code",
   "execution_count": 40,
   "metadata": {
    "colab": {},
    "colab_type": "code",
    "id": "WaR592cso2ol"
   },
   "outputs": [],
   "source": [
    "text_query = 'dirumahaja'\n",
    "start_date = '2020-05-03'\n",
    "end_date = '2020-06-03'\n",
    "lang = 'id'\n",
    "within = '50mi'\n",
    "\n",
    "citys = ['Jakarta, DKI Jakarta','Surabaya, Jawa Timur','Sidoarjo, Jawa Timur','Malang, Jawa Timur','Bangkalan, Jawa Timur','Pekanbaru, Riau','Tangerang, Banten','Makasar, Sulawesi Selatan','Semarang, Jawa Barat','Bandung, Jawa Barat']"
   ]
  },
  {
   "cell_type": "code",
   "execution_count": 41,
   "metadata": {
    "colab": {},
    "colab_type": "code",
    "id": "SPAov1HQsizZ"
   },
   "outputs": [],
   "source": [
    "# scrap membutuhkan info dan export ke file csv\n",
    "for city in citys:\n",
    "  location = city\n",
    "  df = get_tweets(text_query,start_date,end_date,lang,location,within)\n",
    "  df.to_csv(city + '.csv', index = False)\n",
    "  time.sleep(120)"
   ]
  },
  {
   "cell_type": "code",
   "execution_count": 42,
   "metadata": {
    "colab": {},
    "colab_type": "code",
    "id": "_FryvWQP1n47"
   },
   "outputs": [],
   "source": [
    "# menambahkan kolom kota dan mengkombinasi semua datasets\n",
    "city_column = ['JKT','SBY','SDA','MLG','BKL','PKU','TGR','MKS','SMG','BDG']\n",
    "dirumahaja = pd.DataFrame()\n",
    "for i in range(len(city_column)):\n",
    "  df = pd.read_csv(citys[i]+'.csv')\n",
    "  df['City'] = city_column[i]\n",
    "  dirumahaja = pd.concat([dirumahaja, df], axis = 0)"
   ]
  },
  {
   "cell_type": "code",
   "execution_count": 43,
   "metadata": {
    "colab": {},
    "colab_type": "code",
    "id": "9sMqPwb95XkY"
   },
   "outputs": [],
   "source": [
    "#export seluruh baris data\n",
    "dirumahaja.to_csv('dirumahaja.csv', index = False)"
   ]
  },
  {
   "cell_type": "code",
   "execution_count": 44,
   "metadata": {
    "colab": {
     "base_uri": "https://localhost:8080/",
     "height": 34
    },
    "colab_type": "code",
    "id": "McRTKbGi5vG0",
    "outputId": "42e7c24e-11cf-42ab-ae88-f353f20711e7"
   },
   "outputs": [
    {
     "data": {
      "text/plain": [
       "(8547, 7)"
      ]
     },
     "execution_count": 44,
     "metadata": {},
     "output_type": "execute_result"
    }
   ],
   "source": [
    "df = pd.read_csv(\"dirumahaja.csv\")\n",
    "df.shape"
   ]
  },
  {
   "cell_type": "code",
   "execution_count": 45,
   "metadata": {
    "colab": {},
    "colab_type": "code",
    "id": "rQgvWnoa59qf"
   },
   "outputs": [],
   "source": [
    "df.replace('[]', np.nan, inplace = True)\n",
    "df.drop_duplicates(inplace = True)\n",
    "df.drop_duplicates(subset = ['Text'], inplace = True)\n",
    "\n",
    "# memisahkan timestamp ke tanggal dan waktu\n",
    "df['Date'] = pd.to_datetime(df['Date'])\n",
    "df['date'] = df['Date'].apply( lambda x: x.strftime(\"%Y-%m-%d\"))\n",
    "df['time'] = df['Date'].apply( lambda x: x.strftime(\"%H-%M-%S\"))\n",
    "df.drop(['Date'], axis = 1, inplace = True)\n",
    "\n",
    "# mengganti kota dengan inisial nama kota\n",
    "replace_values = {'JKT' : 'Jakarta','SBY':'Surabaya','SDA':'Sidoarjo','MLG':'Malang','BKL':'Bangkalan','PKU':'Pekanbaru','TGR':'Tangerang','MKS':'Makasar','SMG':'Semarang','BDG':'Bandung'}\n",
    "df = df.replace({\"City\" : replace_values})"
   ]
  },
  {
   "cell_type": "code",
   "execution_count": 46,
   "metadata": {
    "colab": {},
    "colab_type": "code",
    "id": "kRr16gS98wuX"
   },
   "outputs": [],
   "source": [
    "from numpy import *"
   ]
  },
  {
   "cell_type": "code",
   "execution_count": 47,
   "metadata": {
    "colab": {
     "base_uri": "https://localhost:8080/",
     "height": 373
    },
    "colab_type": "code",
    "id": "_k2wbAfx8z2a",
    "outputId": "7d642288-f8bf-4895-8f05-9846b7022e0a"
   },
   "outputs": [
    {
     "data": {
      "text/html": [
       "<div>\n",
       "<style scoped>\n",
       "    .dataframe tbody tr th:only-of-type {\n",
       "        vertical-align: middle;\n",
       "    }\n",
       "\n",
       "    .dataframe tbody tr th {\n",
       "        vertical-align: top;\n",
       "    }\n",
       "\n",
       "    .dataframe thead th {\n",
       "        text-align: right;\n",
       "    }\n",
       "</style>\n",
       "<table border=\"1\" class=\"dataframe\">\n",
       "  <thead>\n",
       "    <tr style=\"text-align: right;\">\n",
       "      <th></th>\n",
       "      <th>User</th>\n",
       "      <th>Text</th>\n",
       "      <th>num_of_text_per_capita</th>\n",
       "      <th>total_unique_user</th>\n",
       "      <th>new_user</th>\n",
       "    </tr>\n",
       "    <tr>\n",
       "      <th>date</th>\n",
       "      <th></th>\n",
       "      <th></th>\n",
       "      <th></th>\n",
       "      <th></th>\n",
       "      <th></th>\n",
       "    </tr>\n",
       "  </thead>\n",
       "  <tbody>\n",
       "    <tr>\n",
       "      <th>2020-05-24</th>\n",
       "      <td>455</td>\n",
       "      <td>500</td>\n",
       "      <td>1.098901</td>\n",
       "      <td>500</td>\n",
       "      <td>0</td>\n",
       "    </tr>\n",
       "    <tr>\n",
       "      <th>2020-05-25</th>\n",
       "      <td>194</td>\n",
       "      <td>211</td>\n",
       "      <td>1.087629</td>\n",
       "      <td>211</td>\n",
       "      <td>0</td>\n",
       "    </tr>\n",
       "    <tr>\n",
       "      <th>2020-05-26</th>\n",
       "      <td>119</td>\n",
       "      <td>128</td>\n",
       "      <td>1.075630</td>\n",
       "      <td>128</td>\n",
       "      <td>0</td>\n",
       "    </tr>\n",
       "    <tr>\n",
       "      <th>2020-05-27</th>\n",
       "      <td>97</td>\n",
       "      <td>109</td>\n",
       "      <td>1.123711</td>\n",
       "      <td>109</td>\n",
       "      <td>0</td>\n",
       "    </tr>\n",
       "    <tr>\n",
       "      <th>2020-05-28</th>\n",
       "      <td>97</td>\n",
       "      <td>106</td>\n",
       "      <td>1.092784</td>\n",
       "      <td>106</td>\n",
       "      <td>0</td>\n",
       "    </tr>\n",
       "    <tr>\n",
       "      <th>2020-05-29</th>\n",
       "      <td>100</td>\n",
       "      <td>125</td>\n",
       "      <td>1.250000</td>\n",
       "      <td>125</td>\n",
       "      <td>0</td>\n",
       "    </tr>\n",
       "    <tr>\n",
       "      <th>2020-05-30</th>\n",
       "      <td>129</td>\n",
       "      <td>147</td>\n",
       "      <td>1.139535</td>\n",
       "      <td>147</td>\n",
       "      <td>0</td>\n",
       "    </tr>\n",
       "    <tr>\n",
       "      <th>2020-05-31</th>\n",
       "      <td>118</td>\n",
       "      <td>139</td>\n",
       "      <td>1.177966</td>\n",
       "      <td>139</td>\n",
       "      <td>0</td>\n",
       "    </tr>\n",
       "    <tr>\n",
       "      <th>2020-06-01</th>\n",
       "      <td>104</td>\n",
       "      <td>121</td>\n",
       "      <td>1.163462</td>\n",
       "      <td>121</td>\n",
       "      <td>0</td>\n",
       "    </tr>\n",
       "    <tr>\n",
       "      <th>2020-06-02</th>\n",
       "      <td>92</td>\n",
       "      <td>111</td>\n",
       "      <td>1.206522</td>\n",
       "      <td>111</td>\n",
       "      <td>0</td>\n",
       "    </tr>\n",
       "  </tbody>\n",
       "</table>\n",
       "</div>"
      ],
      "text/plain": [
       "            User  Text  num_of_text_per_capita  total_unique_user  new_user\n",
       "date                                                                       \n",
       "2020-05-24   455   500                1.098901                500         0\n",
       "2020-05-25   194   211                1.087629                211         0\n",
       "2020-05-26   119   128                1.075630                128         0\n",
       "2020-05-27    97   109                1.123711                109         0\n",
       "2020-05-28    97   106                1.092784                106         0\n",
       "2020-05-29   100   125                1.250000                125         0\n",
       "2020-05-30   129   147                1.139535                147         0\n",
       "2020-05-31   118   139                1.177966                139         0\n",
       "2020-06-01   104   121                1.163462                121         0\n",
       "2020-06-02    92   111                1.206522                111         0"
      ]
     },
     "execution_count": 47,
     "metadata": {},
     "output_type": "execute_result"
    }
   ],
   "source": [
    "# menghitung pengguna harian\n",
    "user1 = pd.DataFrame(df.groupby('date')['User'].nunique())\n",
    "user2 = pd.DataFrame(df.groupby('date')['Text'].nunique())\n",
    "unique_user = pd.DataFrame(df.groupby('date')['Text'].nunique())\n",
    "lag_user = pd.DataFrame(df.groupby('date')['Text'].nunique())\n",
    "user = pd.concat([user1,user2],axis =1)\n",
    "user['num_of_text_per_capita'] = user['Text']/user['User']\n",
    "user['total_unique_user'] = unique_user\n",
    "user['lag_user'] = lag_user\n",
    "user['new_user'] = user['total_unique_user']-user['lag_user']\n",
    "user.drop(['lag_user'],axis = 1, inplace = True)\n",
    "user.tail(10)"
   ]
  },
  {
   "cell_type": "code",
   "execution_count": 48,
   "metadata": {
    "colab": {},
    "colab_type": "code",
    "id": "lUNYjmnk9_eP"
   },
   "outputs": [],
   "source": [
    "dates = sorted(df['date'].unique())\n",
    "unique_user = list()\n",
    "for date in dates:\n",
    "  unique_user.append(df[df['date'] < date]['User'].nunique())\n",
    "\n",
    "  lag_user = [0]+unique_user\n",
    "  lag_user = lag_user[:-1]"
   ]
  },
  {
   "cell_type": "code",
   "execution_count": 49,
   "metadata": {
    "colab": {
     "base_uri": "https://localhost:8080/",
     "height": 538
    },
    "colab_type": "code",
    "id": "jySYUsCv-g1D",
    "outputId": "5336dbaf-1d73-45b8-f605-dbb5bce227a5"
   },
   "outputs": [
    {
     "data": {
      "text/plain": [
       "[0,\n",
       " 0,\n",
       " 173,\n",
       " 294,\n",
       " 416,\n",
       " 542,\n",
       " 679,\n",
       " 770,\n",
       " 892,\n",
       " 1002,\n",
       " 1102,\n",
       " 1185,\n",
       " 1274,\n",
       " 1373,\n",
       " 1460,\n",
       " 1554,\n",
       " 1649,\n",
       " 1741,\n",
       " 1855,\n",
       " 1945,\n",
       " 2036,\n",
       " 2148,\n",
       " 2345,\n",
       " 2724,\n",
       " 2852,\n",
       " 2920,\n",
       " 2978,\n",
       " 3032,\n",
       " 3093,\n",
       " 3176,\n",
       " 3248]"
      ]
     },
     "execution_count": 49,
     "metadata": {},
     "output_type": "execute_result"
    }
   ],
   "source": [
    "lag_user"
   ]
  },
  {
   "cell_type": "code",
   "execution_count": 50,
   "metadata": {
    "colab": {
     "base_uri": "https://localhost:8080/",
     "height": 34
    },
    "colab_type": "code",
    "id": "ulPAtI3X-56f",
    "outputId": "670f2fec-2f2d-4eef-b488-6513cad53919"
   },
   "outputs": [
    {
     "data": {
      "text/plain": [
       "(1300, 8)"
      ]
     },
     "execution_count": 50,
     "metadata": {},
     "output_type": "execute_result"
    }
   ],
   "source": [
    "# memilih 2020-05-03 sebagai divisi\n",
    "# old users: yang aktif di 05-03\n",
    "# new_users: yang gaaktif until 05-03\n",
    "existing_user= df[df['date'] < '2020-05-03']['User'].unique()\n",
    "\n",
    "# retain all old users\n",
    "df1 = df[df['User'].isin(existing_user)]                      \n",
    "df2 = df[-df['User'].isin(existing_user)]\n",
    "\n",
    "# sample new users\n",
    "df2 = df2.sample(1300)\n",
    "\n",
    "# get new sample\n",
    "df = pd.concat([df1,df2])                                     \n",
    "\n",
    "# export new sample\n",
    "df.to_csv(\"Dirumahaja_Done_New.csv\", index = False)\n",
    "df.shape"
   ]
  },
  {
   "cell_type": "code",
   "execution_count": 51,
   "metadata": {
    "colab": {
     "base_uri": "https://localhost:8080/",
     "height": 893
    },
    "colab_type": "code",
    "id": "F76r2JynAAoE",
    "outputId": "79ec1b2f-e95e-4e18-d2bb-379d7bcb29ac"
   },
   "outputs": [
    {
     "data": {
      "text/plain": [
       "[Text(0, 0, '2020-05-03'),\n",
       " Text(0, 0, '2020-05-04'),\n",
       " Text(0, 0, '2020-05-05'),\n",
       " Text(0, 0, '2020-05-06'),\n",
       " Text(0, 0, '2020-05-07'),\n",
       " Text(0, 0, '2020-05-08'),\n",
       " Text(0, 0, '2020-05-09'),\n",
       " Text(0, 0, '2020-05-10'),\n",
       " Text(0, 0, '2020-05-11'),\n",
       " Text(0, 0, '2020-05-12'),\n",
       " Text(0, 0, '2020-05-13'),\n",
       " Text(0, 0, '2020-05-14'),\n",
       " Text(0, 0, '2020-05-15'),\n",
       " Text(0, 0, '2020-05-16'),\n",
       " Text(0, 0, '2020-05-17'),\n",
       " Text(0, 0, '2020-05-18'),\n",
       " Text(0, 0, '2020-05-19'),\n",
       " Text(0, 0, '2020-05-20'),\n",
       " Text(0, 0, '2020-05-21'),\n",
       " Text(0, 0, '2020-05-22'),\n",
       " Text(0, 0, '2020-05-23'),\n",
       " Text(0, 0, '2020-05-24'),\n",
       " Text(0, 0, '2020-05-25'),\n",
       " Text(0, 0, '2020-05-26'),\n",
       " Text(0, 0, '2020-05-27'),\n",
       " Text(0, 0, '2020-05-28'),\n",
       " Text(0, 0, '2020-05-29'),\n",
       " Text(0, 0, '2020-05-30'),\n",
       " Text(0, 0, '2020-05-31'),\n",
       " Text(0, 0, '2020-06-01'),\n",
       " Text(0, 0, '2020-06-02')]"
      ]
     },
     "execution_count": 51,
     "metadata": {},
     "output_type": "execute_result"
    },
    {
     "data": {
      "image/png": "[encoded data removed]",
      "text/plain": [
       "<Figure size 864x360 with 1 Axes>"
      ]
     },
     "metadata": {
      "needs_background": "light"
     },
     "output_type": "display_data"
    }
   ],
   "source": [
    "# memplot distribusi pada sample baru\n",
    "fig = plt.figure(figsize = (12,5))\n",
    "chart = sns.countplot(df['date'], order = sorted(df['date'].unique()))\n",
    "chart.set_xticklabels(chart.get_xticklabels(), rotation = 45)"
   ]
  },
  {
   "cell_type": "code",
   "execution_count": 53,
   "metadata": {
    "colab": {
     "base_uri": "https://localhost:8080/",
     "height": 373
    },
    "colab_type": "code",
    "id": "ghddr7-KA4lF",
    "outputId": "2c78b769-826d-442e-eadd-0aeed5218fb8"
   },
   "outputs": [
    {
     "data": {
      "text/html": [
       "<div>\n",
       "<style scoped>\n",
       "    .dataframe tbody tr th:only-of-type {\n",
       "        vertical-align: middle;\n",
       "    }\n",
       "\n",
       "    .dataframe tbody tr th {\n",
       "        vertical-align: top;\n",
       "    }\n",
       "\n",
       "    .dataframe thead th {\n",
       "        text-align: right;\n",
       "    }\n",
       "</style>\n",
       "<table border=\"1\" class=\"dataframe\">\n",
       "  <thead>\n",
       "    <tr style=\"text-align: right;\">\n",
       "      <th></th>\n",
       "      <th>User</th>\n",
       "      <th>Text</th>\n",
       "      <th>num_of_text_per_capita</th>\n",
       "      <th>total_unique_user</th>\n",
       "      <th>new_user</th>\n",
       "    </tr>\n",
       "    <tr>\n",
       "      <th>date</th>\n",
       "      <th></th>\n",
       "      <th></th>\n",
       "      <th></th>\n",
       "      <th></th>\n",
       "      <th></th>\n",
       "    </tr>\n",
       "  </thead>\n",
       "  <tbody>\n",
       "    <tr>\n",
       "      <th>2020-05-24</th>\n",
       "      <td>102</td>\n",
       "      <td>104</td>\n",
       "      <td>1.019608</td>\n",
       "      <td>2345</td>\n",
       "      <td>197</td>\n",
       "    </tr>\n",
       "    <tr>\n",
       "      <th>2020-05-25</th>\n",
       "      <td>38</td>\n",
       "      <td>41</td>\n",
       "      <td>1.078947</td>\n",
       "      <td>2724</td>\n",
       "      <td>379</td>\n",
       "    </tr>\n",
       "    <tr>\n",
       "      <th>2020-05-26</th>\n",
       "      <td>23</td>\n",
       "      <td>23</td>\n",
       "      <td>1.000000</td>\n",
       "      <td>2852</td>\n",
       "      <td>128</td>\n",
       "    </tr>\n",
       "    <tr>\n",
       "      <th>2020-05-27</th>\n",
       "      <td>22</td>\n",
       "      <td>23</td>\n",
       "      <td>1.045455</td>\n",
       "      <td>2920</td>\n",
       "      <td>68</td>\n",
       "    </tr>\n",
       "    <tr>\n",
       "      <th>2020-05-28</th>\n",
       "      <td>22</td>\n",
       "      <td>22</td>\n",
       "      <td>1.000000</td>\n",
       "      <td>2978</td>\n",
       "      <td>58</td>\n",
       "    </tr>\n",
       "    <tr>\n",
       "      <th>2020-05-29</th>\n",
       "      <td>26</td>\n",
       "      <td>27</td>\n",
       "      <td>1.038462</td>\n",
       "      <td>3032</td>\n",
       "      <td>54</td>\n",
       "    </tr>\n",
       "    <tr>\n",
       "      <th>2020-05-30</th>\n",
       "      <td>32</td>\n",
       "      <td>35</td>\n",
       "      <td>1.093750</td>\n",
       "      <td>3093</td>\n",
       "      <td>61</td>\n",
       "    </tr>\n",
       "    <tr>\n",
       "      <th>2020-05-31</th>\n",
       "      <td>25</td>\n",
       "      <td>25</td>\n",
       "      <td>1.000000</td>\n",
       "      <td>3176</td>\n",
       "      <td>83</td>\n",
       "    </tr>\n",
       "    <tr>\n",
       "      <th>2020-06-01</th>\n",
       "      <td>15</td>\n",
       "      <td>15</td>\n",
       "      <td>1.000000</td>\n",
       "      <td>3248</td>\n",
       "      <td>72</td>\n",
       "    </tr>\n",
       "    <tr>\n",
       "      <th>2020-06-02</th>\n",
       "      <td>20</td>\n",
       "      <td>20</td>\n",
       "      <td>1.000000</td>\n",
       "      <td>3305</td>\n",
       "      <td>57</td>\n",
       "    </tr>\n",
       "  </tbody>\n",
       "</table>\n",
       "</div>"
      ],
      "text/plain": [
       "            User  Text  num_of_text_per_capita  total_unique_user  new_user\n",
       "date                                                                       \n",
       "2020-05-24   102   104                1.019608               2345       197\n",
       "2020-05-25    38    41                1.078947               2724       379\n",
       "2020-05-26    23    23                1.000000               2852       128\n",
       "2020-05-27    22    23                1.045455               2920        68\n",
       "2020-05-28    22    22                1.000000               2978        58\n",
       "2020-05-29    26    27                1.038462               3032        54\n",
       "2020-05-30    32    35                1.093750               3093        61\n",
       "2020-05-31    25    25                1.000000               3176        83\n",
       "2020-06-01    15    15                1.000000               3248        72\n",
       "2020-06-02    20    20                1.000000               3305        57"
      ]
     },
     "execution_count": 53,
     "metadata": {},
     "output_type": "execute_result"
    }
   ],
   "source": [
    "# menghitung pengguna perhari\n",
    "user1 = pd.DataFrame(df.groupby('date')['User'].nunique())\n",
    "user2 = pd.DataFrame(df.groupby('date')['Text'].nunique())\n",
    "user = pd.concat([user1,user2],axis =1)\n",
    "user['num_of_text_per_capita'] = user['Text']/user['User']\n",
    "user['total_unique_user'] = unique_user\n",
    "user['lag_user'] = lag_user\n",
    "user['new_user'] = user['total_unique_user']-user['lag_user']\n",
    "user.drop(['lag_user'],axis =1, inplace = True)\n",
    "user.tail(10)"
   ]
  },
  {
   "cell_type": "code",
   "execution_count": null,
   "metadata": {},
   "outputs": [],
   "source": []
  },
  {
   "cell_type": "code",
   "execution_count": null,
   "metadata": {},
   "outputs": [],
   "source": []
  }
 ],
 "metadata": {
  "colab": {
   "collapsed_sections": [],
   "name": "Part1 Dirumahaja:).ipynb",
   "provenance": []
  },
  "kernelspec": {
   "display_name": "Python 3",
   "language": "python",
   "name": "python3"
  },
  "language_info": {
   "codemirror_mode": {
    "name": "ipython",
    "version": 3
   },
   "file_extension": ".py",
   "mimetype": "text/x-python",
   "name": "python",
   "nbconvert_exporter": "python",
   "pygments_lexer": "ipython3",
   "version": "3.7.6"
  }
 },
 "nbformat": 4,
 "nbformat_minor": 1
}
